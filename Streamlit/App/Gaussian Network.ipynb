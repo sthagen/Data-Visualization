{
 "cells": [
  {
   "cell_type": "markdown",
   "metadata": {
    "toc": true
   },
   "source": [
    "<h1>Table of Contents<span class=\"tocSkip\"></span></h1>\n",
    "<div class=\"toc\"><ul class=\"toc-item\"></ul></div>"
   ]
  },
  {
   "cell_type": "code",
   "execution_count": 2,
   "metadata": {},
   "outputs": [],
   "source": [
    "import pandas as pd\n",
    "import numpy as np\n",
    "import matplotlib.pyplot as plt"
   ]
  },
  {
   "cell_type": "code",
   "execution_count": 63,
   "metadata": {},
   "outputs": [
    {
     "data": {
      "text/html": [
       "<div>\n",
       "<style scoped>\n",
       "    .dataframe tbody tr th:only-of-type {\n",
       "        vertical-align: middle;\n",
       "    }\n",
       "\n",
       "    .dataframe tbody tr th {\n",
       "        vertical-align: top;\n",
       "    }\n",
       "\n",
       "    .dataframe thead th {\n",
       "        text-align: right;\n",
       "    }\n",
       "</style>\n",
       "<table border=\"1\" class=\"dataframe\">\n",
       "  <thead>\n",
       "    <tr style=\"text-align: right;\">\n",
       "      <th></th>\n",
       "      <th>Advertisement Spent</th>\n",
       "      <th>Brand Equity Score</th>\n",
       "      <th>Market Share</th>\n",
       "      <th>Sales</th>\n",
       "    </tr>\n",
       "  </thead>\n",
       "  <tbody>\n",
       "    <tr>\n",
       "      <th>0</th>\n",
       "      <td>99.214862</td>\n",
       "      <td>11.289363</td>\n",
       "      <td>21.957376</td>\n",
       "      <td>37.933788</td>\n",
       "    </tr>\n",
       "    <tr>\n",
       "      <th>1</th>\n",
       "      <td>98.189282</td>\n",
       "      <td>15.262342</td>\n",
       "      <td>18.378131</td>\n",
       "      <td>37.506775</td>\n",
       "    </tr>\n",
       "    <tr>\n",
       "      <th>2</th>\n",
       "      <td>99.522868</td>\n",
       "      <td>7.431480</td>\n",
       "      <td>24.263226</td>\n",
       "      <td>44.467174</td>\n",
       "    </tr>\n",
       "    <tr>\n",
       "      <th>3</th>\n",
       "      <td>98.109838</td>\n",
       "      <td>7.012042</td>\n",
       "      <td>18.211384</td>\n",
       "      <td>36.649235</td>\n",
       "    </tr>\n",
       "    <tr>\n",
       "      <th>4</th>\n",
       "      <td>103.485995</td>\n",
       "      <td>6.682328</td>\n",
       "      <td>21.909969</td>\n",
       "      <td>42.840554</td>\n",
       "    </tr>\n",
       "  </tbody>\n",
       "</table>\n",
       "</div>"
      ],
      "text/plain": [
       "   Advertisement Spent  Brand Equity Score  Market Share      Sales\n",
       "0            99.214862           11.289363     21.957376  37.933788\n",
       "1            98.189282           15.262342     18.378131  37.506775\n",
       "2            99.522868            7.431480     24.263226  44.467174\n",
       "3            98.109838            7.012042     18.211384  36.649235\n",
       "4           103.485995            6.682328     21.909969  42.840554"
      ]
     },
     "execution_count": 63,
     "metadata": {},
     "output_type": "execute_result"
    }
   ],
   "source": [
    "dataset_len = 180\n",
    "dlen = int(dataset_len/2)\n",
    "X_11 = pd.Series(np.random.normal(100,2,dlen))\n",
    "X_12 = pd.Series(np.random.normal(90,2,dlen))\n",
    "X_1 = pd.concat([X_11, X_12]).reset_index(drop=True)\n",
    "X_21 = pd.Series(np.random.normal(10,3,dlen))\n",
    "X_22 = pd.Series(np.random.normal(7,3,dlen))\n",
    "X_2 = pd.concat([X_21, X_22]).reset_index(drop=True)\n",
    "X_31 = pd.Series(np.random.normal(22,7,dlen))\n",
    "X_32 = pd.Series(np.random.normal(52,5,dlen))\n",
    "X_3 = pd.concat([X_31, X_32]).reset_index(drop=True)\n",
    "\n",
    "Y_1 = pd.Series(np.random.normal(40,3,dlen))\n",
    "Y_2 = pd.Series(np.random.normal(82,7,dlen))\n",
    "Y = pd.concat([Y_1, Y_2]).reset_index(drop=True)\n",
    "#Y = pd.Series(np.repeat([0,1],dlen))\n",
    "df = pd.concat([X_1, X_2, X_3, Y], axis=1)\n",
    "df.columns = ['Advertisement Spent', 'Brand Equity Score', 'Market Share', 'Sales']\n",
    "df.head()"
   ]
  },
  {
   "cell_type": "code",
   "execution_count": 332,
   "metadata": {},
   "outputs": [
    {
     "data": {
      "text/plain": [
       "37.02633005225495"
      ]
     },
     "execution_count": 332,
     "metadata": {},
     "output_type": "execute_result"
    }
   ],
   "source": [
    "np.mean(X_3)"
   ]
  },
  {
   "cell_type": "code",
   "execution_count": 64,
   "metadata": {},
   "outputs": [],
   "source": [
    "from sklearn.preprocessing import StandardScaler\n",
    "from sklearn.model_selection import train_test_split\n",
    "\n",
    "X = df.drop(['Sales'], axis = 1).values\n",
    "Y = df['Sales']\n",
    "\n",
    "X = StandardScaler().fit_transform(X)\n",
    "\n",
    "X_Train, X_Test, Y_Train, Y_Test = train_test_split(X, Y, test_size = 0.30, random_state = 101)"
   ]
  },
  {
   "cell_type": "code",
   "execution_count": 65,
   "metadata": {},
   "outputs": [
    {
     "data": {
      "text/plain": [
       "RandomForestRegressor(bootstrap=True, criterion='mse', max_depth=2,\n",
       "           max_features='auto', max_leaf_nodes=None,\n",
       "           min_impurity_decrease=0.0, min_impurity_split=None,\n",
       "           min_samples_leaf=1, min_samples_split=2,\n",
       "           min_weight_fraction_leaf=0.0, n_estimators=100, n_jobs=None,\n",
       "           oob_score=False, random_state=0, verbose=0, warm_start=False)"
      ]
     },
     "execution_count": 65,
     "metadata": {},
     "output_type": "execute_result"
    }
   ],
   "source": [
    "from sklearn.ensemble import RandomForestRegressor\n",
    "regr = RandomForestRegressor(max_depth=2, random_state=0, n_estimators=100)\n",
    "regr.fit(X_Train, Y_Train) "
   ]
  },
  {
   "cell_type": "code",
   "execution_count": 316,
   "metadata": {},
   "outputs": [
    {
     "data": {
      "text/plain": [
       "array([[ 4.79189032e-01,  4.72114269e-01, -8.64495729e-01],\n",
       "       [ 2.11285189e-01,  2.66155874e-01, -1.08978639e+00],\n",
       "       [-4.95258562e-01, -1.05041253e+00,  8.82171181e-01],\n",
       "       [ 1.50144706e+00, -4.44361279e-01, -4.29636545e-01],\n",
       "       [-1.63599544e+00,  4.05648733e-01,  8.28080859e-01],\n",
       "       [ 1.17201269e+00,  1.07094274e+00, -2.66776613e-01],\n",
       "       [-1.47650570e+00, -1.68935360e+00,  7.89523387e-01],\n",
       "       [ 4.48897939e-01,  3.82981860e-01, -1.54779959e+00],\n",
       "       [-1.18692373e+00, -4.58637455e-01,  7.64202645e-01],\n",
       "       [-1.32232031e+00,  4.27234680e-02,  1.07538191e+00],\n",
       "       [ 8.39905345e-01,  8.25876429e-01, -1.04370356e+00],\n",
       "       [ 8.75486138e-01,  5.08948267e-01, -1.17383738e+00],\n",
       "       [ 9.21643338e-01,  1.05329437e+00, -3.94225059e-01],\n",
       "       [-5.37549455e-04,  6.93052430e-01, -4.54965384e-02],\n",
       "       [ 9.64243866e-01,  3.27675303e-01, -1.02166428e+00],\n",
       "       [ 9.33217956e-01, -2.92468996e-01, -1.23091148e+00],\n",
       "       [-1.14539863e+00, -8.53157265e-01,  9.76819357e-01],\n",
       "       [-1.05633067e+00, -2.67287039e-03,  1.01517896e+00],\n",
       "       [ 8.56535880e-01, -8.40985060e-01, -1.53482283e+00],\n",
       "       [ 9.90006268e-01,  8.71127753e-01, -1.36012336e+00],\n",
       "       [-8.50916536e-01,  6.72765277e-01,  1.01248445e+00],\n",
       "       [-9.64109356e-01, -7.80480051e-01,  1.15791793e+00],\n",
       "       [-4.72244063e-01,  5.98427191e-01,  9.87817237e-01],\n",
       "       [-6.41697850e-01,  4.61617991e-01,  1.01796296e+00],\n",
       "       [ 7.43813856e-01,  1.69611783e-02, -1.00004274e+00],\n",
       "       [ 7.41838060e-01,  1.70162366e+00, -1.40075823e+00],\n",
       "       [-9.17265058e-01,  2.93750597e-01,  1.34142127e+00],\n",
       "       [-9.05021333e-01, -3.84975962e-01,  8.87700492e-01],\n",
       "       [-5.41719146e-01,  1.18209132e-01,  1.19230881e+00],\n",
       "       [-9.74889912e-01, -1.42989553e+00,  1.05797138e+00],\n",
       "       [-1.16062316e+00, -9.94233618e-01,  1.08186415e+00],\n",
       "       [-1.38634386e+00,  5.05830023e-01,  8.45901162e-01],\n",
       "       [ 7.03183811e-01,  1.21891732e+00, -4.89785815e-01],\n",
       "       [ 6.55785391e-01,  1.05923251e+00, -8.41915163e-01],\n",
       "       [ 1.56522310e+00, -5.68867578e-01, -9.26735293e-01],\n",
       "       [ 8.55322039e-01,  1.51385769e+00, -1.22830740e+00],\n",
       "       [ 5.83371218e-01,  2.10214368e+00, -1.14326091e+00],\n",
       "       [-1.26228331e+00, -1.41953388e+00,  4.04603747e-01],\n",
       "       [-1.58031052e+00, -2.00787643e-01,  1.04533185e+00],\n",
       "       [-9.86269601e-01, -1.42980816e-01,  7.37933060e-01],\n",
       "       [-8.35309521e-01, -1.75933851e-01,  6.63687794e-01],\n",
       "       [ 8.50135246e-01,  6.00777482e-01, -6.10845650e-02],\n",
       "       [ 1.62876409e+00,  9.01194621e-01, -3.40947310e-01],\n",
       "       [ 1.34014611e+00,  1.09942508e+00, -4.63081573e-01],\n",
       "       [ 2.80761214e-01, -2.17972171e+00,  1.56462585e+00],\n",
       "       [-4.16097935e-01,  1.75484217e-01,  9.59639597e-01],\n",
       "       [ 4.99939015e-01,  6.75953998e-01, -5.69691089e-01],\n",
       "       [-9.44385475e-01,  2.61262392e-01,  7.45846776e-01],\n",
       "       [-1.24297839e+00, -8.34308996e-01,  5.13156231e-01],\n",
       "       [-1.35978481e+00, -1.90086065e-01,  1.10016248e+00],\n",
       "       [ 1.36195840e+00, -3.95435690e-01, -5.33906516e-01],\n",
       "       [-4.79033721e-01,  9.33462310e-01,  1.20441684e+00],\n",
       "       [ 1.19889322e+00, -1.24947501e+00, -1.18689368e+00],\n",
       "       [ 6.54149245e-01, -4.08480519e-01, -1.37365127e+00]])"
      ]
     },
     "execution_count": 316,
     "metadata": {},
     "output_type": "execute_result"
    }
   ],
   "source": [
    "X_Test"
   ]
  },
  {
   "cell_type": "code",
   "execution_count": 66,
   "metadata": {},
   "outputs": [
    {
     "data": {
      "text/plain": [
       "array([39.36914966, 50.72737544, 82.75985909, 39.80243805, 85.74211755,\n",
       "       39.36099811, 82.84099606, 39.26024527, 83.46169473, 84.66594474,\n",
       "       39.64313082, 39.8831731 , 39.49364007, 55.00131122, 39.92337466,\n",
       "       40.05374316, 82.87874322, 84.46120034, 40.50957328, 39.55788208,\n",
       "       84.92073107, 83.04263449, 85.042146  , 85.07850683, 39.92913785,\n",
       "       39.18326541, 84.49998474, 84.19245876, 84.95850386, 82.33801999,\n",
       "       82.91055814, 85.25309125, 39.40035192, 39.60388005, 39.70089272,\n",
       "       39.31910687, 38.99331161, 80.87339966, 85.92943433, 83.53254088,\n",
       "       83.54507635, 39.67850389, 38.95293821, 39.38460576, 66.86953876,\n",
       "       84.83615537, 38.88288383, 83.68608429, 81.53647138, 84.77271054,\n",
       "       39.85828194, 85.10585108, 40.72867095, 39.96865184])"
      ]
     },
     "execution_count": 66,
     "metadata": {},
     "output_type": "execute_result"
    }
   ],
   "source": [
    "pred = regr.predict(X_Test)\n",
    "pred"
   ]
  },
  {
   "cell_type": "code",
   "execution_count": 68,
   "metadata": {},
   "outputs": [
    {
     "data": {
      "text/plain": [
       "0.9152041340033736"
      ]
     },
     "execution_count": 68,
     "metadata": {},
     "output_type": "execute_result"
    }
   ],
   "source": [
    "regr.score(X_Test, Y_Test)"
   ]
  },
  {
   "cell_type": "code",
   "execution_count": 250,
   "metadata": {},
   "outputs": [
    {
     "data": {
      "text/plain": [
       "'-0.04413702625956062'"
      ]
     },
     "execution_count": 250,
     "metadata": {},
     "output_type": "execute_result"
    }
   ],
   "source": [
    "str(np.mean(X_Test[:, 0]))"
   ]
  },
  {
   "cell_type": "code",
   "execution_count": 73,
   "metadata": {},
   "outputs": [
    {
     "data": {
      "text/plain": [
       "'61.96120317160239'"
      ]
     },
     "execution_count": 73,
     "metadata": {},
     "output_type": "execute_result"
    }
   ],
   "source": [
    "str(np.mean(pred))"
   ]
  },
  {
   "cell_type": "code",
   "execution_count": 331,
   "metadata": {},
   "outputs": [
    {
     "name": "stderr",
     "output_type": "stream",
     "text": [
      "C:\\Users\\hp\\Anaconda3\\lib\\site-packages\\networkx\\drawing\\nx_pylab.py:611: MatplotlibDeprecationWarning: isinstance(..., numbers.Number)\n",
      "  if cb.is_numlike(alpha):\n"
     ]
    },
    {
     "data": {
      "text/plain": [
       "Text(300, 170, 'Sales')"
      ]
     },
     "execution_count": 331,
     "metadata": {},
     "output_type": "execute_result"
    },
    {
     "data": {
      "image/png": "[encoded data removed]",
      "text/plain": [
       "<Figure size 432x288 with 1 Axes>"
      ]
     },
     "metadata": {},
     "output_type": "display_data"
    }
   ],
   "source": [
    "# libraries\n",
    "pred = regr.predict(np.array([[300, 50, 6]]))\n",
    "\n",
    "\n",
    "import pandas as pd\n",
    "import numpy as np\n",
    "import networkx as nx\n",
    "from matplotlib.colors import LinearSegmentedColormap\n",
    " \n",
    "# Build a dataframe with your connections\n",
    "df = pd.DataFrame({ 'from':[str(round(np.mean(X_Test[:, 0]),3)), str(round(np.mean(X_Test[:, 1]),3)), \n",
    "                            str(round(np.mean(X_Test[:, 2]),3))], \n",
    "                   'to':[str(round(np.mean(pred),3)), str(round(np.mean(pred),3)), str(round(np.mean(pred),3))]})\n",
    " \n",
    "# And a data frame with characteristics for your nodes\n",
    "carac = pd.DataFrame({ 'ID':[str(round(np.mean(X_Test[:, 0]),3)), str(round(np.mean(X_Test[:, 1]),3)), \n",
    "                            str(round(np.mean(X_Test[:, 2]),3)),\n",
    "                             str(round(np.mean(pred),3))], \n",
    "                      'values':['group1','group2','group3','group4'] })\n",
    " \n",
    "# Build your graph\n",
    "G=nx.from_pandas_edgelist(df, 'from', 'to', create_using=nx.Graph())\n",
    " \n",
    "# The order of the node for networkX is the following order:\n",
    "G.nodes()\n",
    "# Thus, we cannot give directly the 'myvalue' column to netowrkX, we need to arrange the order!\n",
    " \n",
    "# Here is the tricky part: I need to reorder carac to assign the good color to each node\n",
    "carac= carac.set_index('ID')\n",
    "carac=carac.reindex(G.nodes())\n",
    " \n",
    "# And I need to transform my categorical column in a numerical value: group1->1, group2->2...\n",
    "carac['values']=pd.Categorical(carac['values'])\n",
    "carac['values'].cat.codes\n",
    " \n",
    "d = dict(G.degree)\n",
    "\n",
    "cdict = {'red':   ((0.0, 1.0, 1.0),\n",
    "                   (0.5, 1.0, 1.0),\n",
    "                   (1.0, 0.0, 0.0)),\n",
    "\n",
    "         'green':  ((0.0, 0.0, 0.0),\n",
    "                   (0.5, 1.0, 1.0),\n",
    "                   (1.0, 1.0, 1.0)),\n",
    "\n",
    "         'blue': ((0.0, 0.0, 0.0),\n",
    "                   (1.0, 0.0, 0.0))\n",
    "        }\n",
    "\n",
    "colours = LinearSegmentedColormap('GYR', cdict)\n",
    "fixed_positions = {str(round(np.mean(X_Test[:, 0]),3)) :(0,0),\n",
    "                   str(round(np.mean(X_Test[:, 1]),3)) :(-1,2),\n",
    "                   str(round(np.mean(X_Test[:, 2]),3)) :(1,2),\n",
    "                   str(round(np.mean(pred),3)) :(0, 1.2)}#dict with two of the positions set\n",
    "fixed_nodes = fixed_positions.keys()\n",
    "pos = nx.spring_layout(G,pos=fixed_positions, fixed = fixed_nodes)\n",
    "    \n",
    "# Custom the nodes:\n",
    "nx.draw(G, with_labels=True, node_color=carac['values'].cat.codes, cmap= colours, pos=pos,\n",
    "        node_size=[v * 2000 for v in d.values()], width=3)\n",
    "\n",
    "plt.annotate('Brand Equity Score', xy=(70, 340), xycoords='figure pixels', fontsize= 15)\n",
    "plt.annotate('Advertisement Spent', xy=(20, 50), xycoords='figure pixels', fontsize= 15)\n",
    "plt.annotate('Market Share', xy=(400, 330), xycoords='figure pixels', fontsize= 15)\n",
    "plt.annotate('Sales', xy=(300, 170), xycoords='figure pixels', fontsize= 15)"
   ]
  }
 ],
 "metadata": {
  "kernelspec": {
   "display_name": "Python 3",
   "language": "python",
   "name": "python3"
  },
  "language_info": {
   "codemirror_mode": {
    "name": "ipython",
    "version": 3
   },
   "file_extension": ".py",
   "mimetype": "text/x-python",
   "name": "python",
   "nbconvert_exporter": "python",
   "pygments_lexer": "ipython3",
   "version": "3.7.3"
  },
  "toc": {
   "base_numbering": 1,
   "nav_menu": {},
   "number_sections": true,
   "sideBar": true,
   "skip_h1_title": true,
   "title_cell": "Table of Contents",
   "title_sidebar": "Contents",
   "toc_cell": true,
   "toc_position": {},
   "toc_section_display": true,
   "toc_window_display": false
  },
  "varInspector": {
   "cols": {
    "lenName": 16,
    "lenType": 16,
    "lenVar": 40
   },
   "kernels_config": {
    "python": {
     "delete_cmd_postfix": "",
     "delete_cmd_prefix": "del ",
     "library": "var_list.py",
     "varRefreshCmd": "print(var_dic_list())"
    },
    "r": {
     "delete_cmd_postfix": ") ",
     "delete_cmd_prefix": "rm(",
     "library": "var_list.r",
     "varRefreshCmd": "cat(var_dic_list()) "
    }
   },
   "types_to_exclude": [
    "module",
    "function",
    "builtin_function_or_method",
    "instance",
    "_Feature"
   ],
   "window_display": false
  }
 },
 "nbformat": 4,
 "nbformat_minor": 2
}
