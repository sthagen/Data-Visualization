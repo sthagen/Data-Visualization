{
 "cells": [
  {
   "cell_type": "code",
   "execution_count": 2,
   "metadata": {},
   "outputs": [],
   "source": [
    "import pandas as pd\n",
    "import numpy as np\n",
    "import gradio as gr"
   ]
  },
  {
   "cell_type": "code",
   "execution_count": 29,
   "metadata": {},
   "outputs": [
    {
     "name": "stdout",
     "output_type": "stream",
     "text": [
      "Running locally at: http://127.0.0.1:7875/\n",
      "To get a public link for a hosted model, set Share=True\n",
      "Interface loading below...\n"
     ]
    },
    {
     "data": {
      "text/html": [
       "\n",
       "        <iframe\n",
       "            width=\"1000\"\n",
       "            height=\"500\"\n",
       "            src=\"http://127.0.0.1:7875/\"\n",
       "            frameborder=\"0\"\n",
       "            allowfullscreen\n",
       "        ></iframe>\n",
       "        "
      ],
      "text/plain": [
       "<IPython.lib.display.IFrame at 0x148fa706320>"
      ]
     },
     "metadata": {},
     "output_type": "display_data"
    },
    {
     "data": {
      "text/plain": [
       "(<gradio.networking.serve_files_in_background.<locals>.HTTPServer at 0x1488073a278>,\n",
       " 'http://127.0.0.1:7875/',\n",
       " None)"
      ]
     },
     "execution_count": 29,
     "metadata": {},
     "output_type": "execute_result"
    }
   ],
   "source": [
    "import torch\n",
    "import torchvision.models as models\n",
    "from torchvision import transforms\n",
    "import requests\n",
    "from PIL import Image\n",
    "\n",
    "alexnet = models.alexnet(pretrained=True).eval()\n",
    "raw_labels = requests.get(\"https://gist.githubusercontent.com/yrevar/942d3a0ac09ec9e5eb3a/raw/238f720ff059c1f82f368259d1ca4ffa5dd8f9f5/imagenet1000_clsidx_to_labels.txt\").text\n",
    "labels = [i.split(',')[0] for i in list(eval(raw_labels).values())]\n",
    "\n",
    "def inference(data):\n",
    "    image = transforms.ToTensor()(Image.fromarray(data.astype('uint8'), 'RGB')).unsqueeze(0)\n",
    "    prediction = torch.nn.functional.softmax(alexnet(image)[0], dim=0)\n",
    "    dictionary = dict(zip(labels, map(float, prediction)))\n",
    "    return dictionary\n",
    "\n",
    "gr.Interface(fn=inference, \n",
    "             inputs=gr.inputs.Image(), \n",
    "             outputs=gr.outputs.Label(num_top_classes=5)).launch()"
   ]
  }
 ],
 "metadata": {
  "kernelspec": {
   "display_name": "Python 3.7.3 64-bit ('pysyft': conda)",
   "language": "python",
   "name": "python37364bitpysyftconda8d222bf50f154bcab3a1cc4bebca6a33"
  },
  "language_info": {
   "codemirror_mode": {
    "name": "ipython",
    "version": 3
   },
   "file_extension": ".py",
   "mimetype": "text/x-python",
   "name": "python",
   "nbconvert_exporter": "python",
   "pygments_lexer": "ipython3",
   "version": "3.7.3"
  }
 },
 "nbformat": 4,
 "nbformat_minor": 4
}
